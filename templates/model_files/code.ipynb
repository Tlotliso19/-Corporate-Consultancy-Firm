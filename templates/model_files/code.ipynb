{
 "cells": [
  {
   "cell_type": "code",
   "execution_count": 1,
   "id": "b250ef9c-1723-4a97-b685-1f2a760a1ca9",
   "metadata": {
    "tags": []
   },
   "outputs": [],
   "source": [
    "def df_scaler(path):\n",
    "    raw=pd.read_csv(path)\n",
    "    data_df=pd.DataFrame(raw)\n",
    "    scaler=MinMaxScaler()\n",
    "    scaler.fit(data_df)\n",
    "    data_df=pd.DataFrame(scaler.transform(data_df),\n",
    "                         columns=[ 'id', 'income','age','loan','default'])\n",
    "    return data_df"
   ]
  },
  {
   "cell_type": "code",
   "execution_count": 3,
   "id": "04c7a7d0-a35e-40a3-a98b-2f34ce3c9d94",
   "metadata": {
    "tags": []
   },
   "outputs": [],
   "source": [
    "def data_spliter(data_df):\n",
    "    x=data_df.reindex(columns =['id', 'income','age','loan'])\n",
    "    y=data_df.reindex(columns =['default'])\n",
    "    x_train, x_test, y_train, y_test = train_test_split(x,y , \n",
    "                                                        random_state=104,  \n",
    "                                                        test_size=0.25,  shuffle=True)\n",
    "    return  x_train, x_test, y_train, y_test\n",
    "\n"
   ]
  },
  {
   "cell_type": "code",
   "execution_count": null,
   "id": "e0d9a210-fbe9-4c78-941a-a039306a2281",
   "metadata": {},
   "outputs": [],
   "source": []
  }
 ],
 "metadata": {
  "kernelspec": {
   "display_name": "Python 3 (ipykernel)",
   "language": "python",
   "name": "python3"
  },
  "language_info": {
   "codemirror_mode": {
    "name": "ipython",
    "version": 3
   },
   "file_extension": ".py",
   "mimetype": "text/x-python",
   "name": "python",
   "nbconvert_exporter": "python",
   "pygments_lexer": "ipython3",
   "version": "3.11.5"
  }
 },
 "nbformat": 4,
 "nbformat_minor": 5
}
